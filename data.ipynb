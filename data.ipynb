{
 "cells": [
  {
   "cell_type": "markdown",
   "metadata": {},
   "source": [
    "# This Notebooks sorts data and outputs a CSV with all `lizard`-analytics"
   ]
  },
  {
   "cell_type": "code",
   "execution_count": 8,
   "metadata": {},
   "outputs": [],
   "source": [
    "import os\n",
    "import csv\n",
    "import lizard\n",
    "import subprocess\n",
    "import re"
   ]
  },
  {
   "cell_type": "markdown",
   "metadata": {},
   "source": [
    "## Helper methods"
   ]
  },
  {
   "cell_type": "code",
   "execution_count": 9,
   "metadata": {},
   "outputs": [],
   "source": [
    "def get_all_student_files(directory):\n",
    "    \"\"\"\n",
    "    INPUT   directory: path to all student repos\n",
    "    OUTPUT  a list of tuples (path/to/student_repo, student)\n",
    "    \"\"\"\n",
    "    return [ (f.path, f.name) for f in os.scandir(directory) if f.is_dir()]"
   ]
  },
  {
   "cell_type": "markdown",
   "metadata": {},
   "source": [
    "`call_lizard()` runs lizard on each seperate student repository, excluding testfiles."
   ]
  },
  {
   "cell_type": "code",
   "execution_count": 10,
   "metadata": {},
   "outputs": [],
   "source": [
    "def setup_student_ta_and_experience(path):\n",
    "    \"\"\"\n",
    "    INPUT   path: path to ta-groups-20xx.csv\n",
    "    OUTPUT  dict: a dictionary where every student has a (TA, experience)-tuple\n",
    "    \"\"\"\n",
    "    dict = {}\n",
    "    with open(path, \"r\") as csvfile:\n",
    "        reader = csv.reader(csvfile)\n",
    "        for row in reader:\n",
    "            # row[0] = student, row[1] = ta, row[2] = experience\n",
    "            dict[row[0]] = (row[1], row[2])\n",
    "    return dict"
   ]
  },
  {
   "cell_type": "code",
   "execution_count": 11,
   "metadata": {},
   "outputs": [],
   "source": [
    "def call_lizard(path, filename):\n",
    "    \"\"\"\n",
    "    INPUT   path: path to all student repos for current course iteration\n",
    "    OUTPUT  writes raw lizard output in csv-format to a new file 'filename'\n",
    "    \"\"\"\n",
    "    with open(filename, \"w\") as csvfile:\n",
    "        for student in get_all_student_files(path):\n",
    "            proc = subprocess.call(['lizard', student[0], '--csv', '--exclude', '\"^.*Test.java$\"', '-l', 'java'], bufsize=1, universal_newlines=True, stdout=csvfile)\n"
   ]
  },
  {
   "cell_type": "markdown",
   "metadata": {},
   "source": [
    "## Execution"
   ]
  },
  {
   "cell_type": "code",
   "execution_count": 12,
   "metadata": {},
   "outputs": [],
   "source": [
    "def refine_lizard_csv(source, regex, groupfile, source_headers):\n",
    "    \"\"\" \n",
    "    returns a list of dictionaries to write to a new csvfile\n",
    "    \"\"\"\n",
    "    rows = []\n",
    "    student_ta_xp = setup_student_ta_and_experience(groupfile)\n",
    "    attribute_errors = 0\n",
    "    with open(source, newline='') as csvfile:\n",
    "        reader = csv.DictReader(csvfile, fieldnames=source_headers)\n",
    "        for row in reader:\n",
    "            try:\n",
    "                student = re.search(regex[\"student\"], row['verbose']).group(0)\n",
    "                task = int(re.search(regex[\"task\"], row['verbose']).group(0))\n",
    "                clss = re.search(regex[\"class\"], row['class::method']).group(0)\n",
    "                method = re.search(regex[\"method\"], row['class::method(args)']).group(0)\n",
    "                ta = student_ta_xp[student][0]\n",
    "                experience = student_ta_xp[student_ta_xp][1],\n",
    "            except AttributeError:\n",
    "                # eftersom lösningar som ej kompilerar pajar regexen är detta nödvändigt\n",
    "                # Sätter till NaN för att kunna filtrera ut i Pandas\n",
    "                attribute_errors = attribute_errors + 1 # keep track of amount of faulty lines\n",
    "                ta = \"NaN\"\n",
    "                student = \"NaN\"\n",
    "                task = \"NaN\"\n",
    "                clss = \"NaN\"\n",
    "                method = \"NaN\"\n",
    "            new_row = { # if we reach here all is well\n",
    "                        \"NLOC\": row['NLOC'], \n",
    "                        \"CCN\": row['CCN'], \n",
    "                        \"experience\": experience,\n",
    "                        \"TA\": ta,\n",
    "                        \"student\": student, \n",
    "                        \"task\": task, \n",
    "                        \"class\": clss, \n",
    "                        \"method\": method\n",
    "                        }\n",
    "            rows.append(new_row)\n",
    "    print(f\"Done parsing a total of {len(rows)} rows, with {attribute_errors} faulty lines! That's a felmariginal of {attribute_errors/len(rows)}\")\n",
    "    return rows\n",
    "\n",
    "\n",
    "def write_to_output(destination, destination_headers, rows):\n",
    "    with open(destination, 'w', newline='') as csvfile:\n",
    "        writer = csv.DictWriter(csvfile, fieldnames=destination_headers)\n",
    "        writer.writeheader()\n",
    "        writer.writerows(rows)\n",
    "    \n"
   ]
  },
  {
   "cell_type": "code",
   "execution_count": 13,
   "metadata": {},
   "outputs": [],
   "source": [
    "def main():\n",
    "    # the source (Lizard) csv-header and the destination header\n",
    "    source_headers = [\"NLOC\", \"CCN\", \"token\", \"PARAM\", \"length\", \"verbose\", \"input\", \"class::method\", \"class::method(args)\", \"start line\", \"end line\"]\n",
    "    destination_headers = [\"NLOC\", \"CCN\", \"experience\" \"TA\", \"student\", \"task\", \"class\", \"method\"]\n",
    "\n",
    "    # necessary regex is stored in a dictionary\n",
    "    regex = {\n",
    "        \"task\": \"((?<=task-)[0-9]+)\", # capture a number preceded by 'task-'\n",
    "        \"class\": \"^[A-Za-z0-9]*\", # capture any letter or number from start to end of string\n",
    "        \"student\": \"((?<=\\/)([a-zA-Z0-9]+)(?=-task))\", # capture any string preceded by '/' and ending with '-task'\n",
    "        \"method\": \"((?<=::).*(?=\\())\" # nasty\n",
    "    }\n",
    "\n",
    "    # stå i repot och kör detta script\n",
    "    path_to_student_repos = \"data/inda/2021\" \n",
    "    raw_lizard_csv = \"data/lizard/inda-repos-students-2021.csv\"\n",
    "    refined_lizard_csv = \"data/processed/inda-repos-students-2021.csv\"\n",
    "    groupfile = \"data/inda/2021/ta-group-2021.csv\"\n",
    "    \n",
    "    # run and refine lizard output\n",
    "    call_lizard(path_to_student_repos, raw_lizard_csv)\n",
    "    rows = refine_lizard_csv(raw_lizard_csv, regex, groupfile, source_headers)\n",
    "    write_to_output(refined_lizard_csv, destination_headers, rows)\n"
   ]
  }
 ],
 "metadata": {
  "interpreter": {
   "hash": "31f2aee4e71d21fbe5cf8b01ff0e069b9275f58929596ceb00d14d90e3e16cd6"
  },
  "kernelspec": {
   "display_name": "Python 3.8.9 64-bit",
   "language": "python",
   "name": "python3"
  },
  "language_info": {
   "codemirror_mode": {
    "name": "ipython",
    "version": 3
   },
   "file_extension": ".py",
   "mimetype": "text/x-python",
   "name": "python",
   "nbconvert_exporter": "python",
   "pygments_lexer": "ipython3",
   "version": "3.8.9"
  },
  "orig_nbformat": 4
 },
 "nbformat": 4,
 "nbformat_minor": 2
}
